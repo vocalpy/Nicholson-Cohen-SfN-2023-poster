{
 "cells": [
  {
   "cell_type": "code",
   "execution_count": null,
   "id": "45ac48a1-715c-4479-9319-c8f164703062",
   "metadata": {},
   "outputs": [],
   "source": [
    "cd /home/ildefonso/Documents/repos/vocalpy/Nicholson-Cohen-SfN-2023-poster/"
   ]
  },
  {
   "cell_type": "code",
   "execution_count": null,
   "id": "6684c3a0-5a55-4c3d-8813-9b3f504b3355",
   "metadata": {},
   "outputs": [],
   "source": [
    "from dataclasses import dataclass\n",
    "import pathlib\n",
    "import tarfile"
   ]
  },
  {
   "cell_type": "code",
   "execution_count": null,
   "id": "bb050001-223a-4a48-af5c-b6d0de0cc454",
   "metadata": {},
   "outputs": [],
   "source": [
    "results_root = pathlib.Path('results/multiclass')"
   ]
  },
  {
   "cell_type": "code",
   "execution_count": null,
   "id": "7d4f527b-fbd1-4d95-906f-98593bfa2520",
   "metadata": {},
   "outputs": [],
   "source": [
    "@dataclass\n",
    "class LossFunctionResult:\n",
    "    \"\"\"Class that represents a trained model + metadata\n",
    "    for an experiment varying the loss function\"\"\"\n",
    "    model_name: str\n",
    "    dataset_name: str\n",
    "    results_dir: str\n",
    "    loss_function: str"
   ]
  },
  {
   "cell_type": "code",
   "execution_count": null,
   "id": "92bf5584-68bd-476c-9f26-e387c1d201a2",
   "metadata": {},
   "outputs": [],
   "source": [
    "LOSS_FUNCTION_RESULTS = [\n",
    "    # ---- TweetyNet\n",
    "    # We don't need to re-compress this one since it's the same one for window size = 2000\n",
    "    # LossFunctionResult(\n",
    "    #     model_name='TweetyNet',\n",
    "    #     dataset_name='BFSongRepo/all-birds',\n",
    "    #     results_dir='results_231025_222720',\n",
    "    #     loss_function='CE',\n",
    "    # ),\n",
    "    LossFunctionResult(\n",
    "        model_name='TweetyNet',\n",
    "        dataset_name='BFSongRepo/all-birds',\n",
    "        results_dir='results_231028_080948',\n",
    "        loss_function='CE+TMSE',\n",
    "    ),\n",
    "    LossFunctionResult(\n",
    "        model_name='TweetyNet',\n",
    "        dataset_name='BFSongRepo/all-birds',\n",
    "       results_dir='results_231028_124122',\n",
    "        loss_function='CE+gsTMSE',\n",
    "    ),            \n",
    "    # ---- ConvTemporalConvNet\n",
    "    # We don't need to re-compress this one since it's the same one for window size = 2000\n",
    "    # LossFunctionResult(\n",
    "    #     model_name='ConvTemporalConvNet',\n",
    "    #     dataset_name='BFSongRepo/all-birds',\n",
    "    #     results_dir='results_231025_222812',\n",
    "    #     loss_function='CE',\n",
    "    # ),\n",
    "    LossFunctionResult(\n",
    "        model_name='ConvTemporalConvNet',\n",
    "        dataset_name='BFSongRepo/all-birds',\n",
    "        results_dir='results_231027_162429',\n",
    "        loss_function='CE+TMSE',\n",
    "    ),\n",
    "    LossFunctionResult(\n",
    "        model_name='ConvTemporalConvNet',\n",
    "        dataset_name='BFSongRepo/all-birds',\n",
    "        results_dir='results_231027_162459',\n",
    "        loss_function='CE+gsTMSE',\n",
    "    ),\n",
    "]"
   ]
  },
  {
   "cell_type": "code",
   "execution_count": null,
   "id": "a30431df-3c24-4988-accb-e1423ac6a5fe",
   "metadata": {},
   "outputs": [],
   "source": [
    "def make_tarfile(name: str, arcname: str, to_add: pathlib.Path):\n",
    "    with tarfile.open(name, \"w:gz\") as tf:\n",
    "        tf.add(to_add, arcname=arcname, )"
   ]
  },
  {
   "cell_type": "code",
   "execution_count": null,
   "id": "8f5c464c-fd65-42bb-9f5d-e082181118d2",
   "metadata": {},
   "outputs": [],
   "source": [
    "for result in LOSS_FUNCTION_RESULTS:\n",
    "    results_dir = results_root / result.dataset_name / result.model_name / result.results_dir\n",
    "    name = results_root / f\"{results_dir.name}.tar.gz\"\n",
    "    arcname = f\"{result.dataset_name}/{result.model_name}/{result.results_dir}\"\n",
    "    make_tarfile(name, arcname, results_dir)"
   ]
  },
  {
   "cell_type": "code",
   "execution_count": null,
   "id": "fc065375-1b81-49c3-82bf-1abc4faea3a4",
   "metadata": {},
   "outputs": [],
   "source": [
    "import json\n",
    "import dataclasses\n",
    "\n",
    "loss_function_results_dicts = [\n",
    "    dataclasses.asdict(result)\n",
    "    for result in LOSS_FUNCTION_RESULTS\n",
    "]\n",
    "\n",
    "with open('../Nicholson-Cohen-SfN-2023-poster/results/loss-function-results.json', 'w') as fp:\n",
    "    json.dump(loss_function_results_dicts, fp, indent=4)"
   ]
  }
 ],
 "metadata": {
  "kernelspec": {
   "display_name": "Python 3 (ipykernel)",
   "language": "python",
   "name": "python3"
  },
  "language_info": {
   "codemirror_mode": {
    "name": "ipython",
    "version": 3
   },
   "file_extension": ".py",
   "mimetype": "text/x-python",
   "name": "python",
   "nbconvert_exporter": "python",
   "pygments_lexer": "ipython3",
   "version": "3.10.9"
  }
 },
 "nbformat": 4,
 "nbformat_minor": 5
}
