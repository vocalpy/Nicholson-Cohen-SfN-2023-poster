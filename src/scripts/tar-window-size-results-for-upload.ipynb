{
 "cells": [
  {
   "cell_type": "code",
   "execution_count": null,
   "id": "45ac48a1-715c-4479-9319-c8f164703062",
   "metadata": {},
   "outputs": [],
   "source": [
    "cd /home/ildefonso/Documents/repos/vocalpy/Nicholson-Cohen-SfN-2023-poster/"
   ]
  },
  {
   "cell_type": "code",
   "execution_count": null,
   "id": "6684c3a0-5a55-4c3d-8813-9b3f504b3355",
   "metadata": {},
   "outputs": [],
   "source": [
    "from dataclasses import dataclass\n",
    "import pathlib\n",
    "import tarfile"
   ]
  },
  {
   "cell_type": "code",
   "execution_count": null,
   "id": "bb050001-223a-4a48-af5c-b6d0de0cc454",
   "metadata": {},
   "outputs": [],
   "source": [
    "results_root = pathlib.Path('results/multiclass')"
   ]
  },
  {
   "cell_type": "code",
   "execution_count": null,
   "id": "7d4f527b-fbd1-4d95-906f-98593bfa2520",
   "metadata": {},
   "outputs": [],
   "source": [
    "@dataclass\n",
    "class WindowSizeResults:\n",
    "    \"\"\"Class that represents a trained model + metadata\n",
    "    for an experiment varying window size\"\"\"\n",
    "    model_name: str\n",
    "    dataset_name: str\n",
    "    results_dir: str\n",
    "    window_size: int"
   ]
  },
  {
   "cell_type": "code",
   "execution_count": null,
   "id": "e3ac1d26-95b3-4dbe-b4a4-473e4cc6cedf",
   "metadata": {},
   "outputs": [],
   "source": [
    "WINDOW_SIZE_RESULTS = [\n",
    "    WindowSizeResults(\n",
    "        model_name='TweetyNet',\n",
    "        dataset_name='BFSongRepo/all-birds',\n",
    "        results_dir='results_231104_114724',\n",
    "        window_size=64,\n",
    "    ),\n",
    "    WindowSizeResults(\n",
    "        model_name='TweetyNet',\n",
    "        dataset_name='BFSongRepo/all-birds',\n",
    "        results_dir='results_231025_200608',\n",
    "        window_size=176\n",
    "    ),\n",
    "    WindowSizeResults(\n",
    "        model_name='TweetyNet',\n",
    "        dataset_name='BFSongRepo/all-birds',\n",
    "        results_dir='results_231104_215302',\n",
    "        window_size=1000\n",
    "    ),\n",
    "    WindowSizeResults(\n",
    "        model_name='TweetyNet',\n",
    "        dataset_name='BFSongRepo/all-birds',\n",
    "        results_dir='results_231025_222720',\n",
    "        window_size=2000\n",
    "    ),\n",
    "    WindowSizeResults(\n",
    "        model_name='TweetyNet',\n",
    "        dataset_name='BFSongRepo/all-birds',\n",
    "        results_dir='results_231104_152144',\n",
    "        window_size=4000\n",
    "    ),    \n",
    "    # ---- TemporalConvNet\n",
    "    WindowSizeResults(\n",
    "        model_name='TemporalConvNet',\n",
    "        dataset_name='BFSongRepo/all-birds',\n",
    "        results_dir='results_231104_064536',\n",
    "        window_size=64,\n",
    "    ),\n",
    "    WindowSizeResults(\n",
    "        model_name='TemporalConvNet',\n",
    "        dataset_name='BFSongRepo/all-birds',\n",
    "        results_dir='results_231026_085351',\n",
    "        window_size=176,\n",
    "    ),\n",
    "    WindowSizeResults(\n",
    "        model_name='TemporalConvNet',\n",
    "        dataset_name='BFSongRepo/all-birds',\n",
    "        results_dir='results_231104_194434',\n",
    "        window_size=1000,\n",
    "    ),\n",
    "    WindowSizeResults(\n",
    "        model_name='TemporalConvNet',\n",
    "        dataset_name='BFSongRepo/all-birds',\n",
    "        results_dir='results_231026_103215',\n",
    "        window_size=2000,\n",
    "    ),\n",
    "    WindowSizeResults(\n",
    "        model_name='TemporalConvNet',\n",
    "        dataset_name='BFSongRepo/all-birds',\n",
    "        results_dir='results_231104_092453',\n",
    "        window_size=4000,\n",
    "    ),\n",
    "    # ---- ConvTemporalConvNet\n",
    "    WindowSizeResults(\n",
    "        model_name='ConvTemporalConvNet',\n",
    "        dataset_name='BFSongRepo/all-birds',\n",
    "        results_dir='results_231103_180218',\n",
    "        window_size=64,\n",
    "    ),\n",
    "    WindowSizeResults(\n",
    "        model_name='ConvTemporalConvNet',\n",
    "        dataset_name='BFSongRepo/all-birds',\n",
    "        results_dir='results_231025_200702',\n",
    "        window_size=176,\n",
    "    ),\n",
    "    WindowSizeResults(\n",
    "        model_name='ConvTemporalConvNet',\n",
    "        dataset_name='BFSongRepo/all-birds',\n",
    "        results_dir='results_231105_175621',\n",
    "        window_size=1000,\n",
    "    ),\n",
    "    WindowSizeResults(\n",
    "        model_name='ConvTemporalConvNet',\n",
    "        dataset_name='BFSongRepo/all-birds',\n",
    "        results_dir='results_231025_222812',\n",
    "        window_size=2000,\n",
    "    ),\n",
    "    WindowSizeResults(\n",
    "        model_name='ConvTemporalConvNet',\n",
    "        dataset_name='BFSongRepo/all-birds',\n",
    "        results_dir='results_231103_180825',\n",
    "        window_size=4000,\n",
    "    ),\n",
    "]"
   ]
  },
  {
   "cell_type": "code",
   "execution_count": null,
   "id": "a5d06954-983a-4150-b2a5-26ec431b2bda",
   "metadata": {},
   "outputs": [],
   "source": [
    "def make_tarfile(name: str, arcname: str, to_add: pathlib.Path):\n",
    "    with tarfile.open(name, \"w:gz\") as tf:\n",
    "        tf.add(to_add, arcname=arcname, )"
   ]
  },
  {
   "cell_type": "code",
   "execution_count": null,
   "id": "67956160-14c3-4512-896c-d9c90958bfcb",
   "metadata": {},
   "outputs": [],
   "source": [
    "for result in WINDOW_SIZE_RESULTS:\n",
    "    results_dir = results_root / result.dataset_name / result.model_name / result.results_dir\n",
    "    name = results_root / f\"{results_dir.name}.tar.gz\"\n",
    "    arcname = f\"{result.dataset_name}/{result.model_name}/{result.results_dir}\"\n",
    "    make_tarfile(name, arcname, results_dir)"
   ]
  },
  {
   "cell_type": "code",
   "execution_count": null,
   "id": "e8f332e0-a6c3-44e5-b3d7-61ef648429c7",
   "metadata": {},
   "outputs": [],
   "source": [
    "import json\n",
    "import dataclasses\n",
    "\n",
    "window_size_results_dicts = [\n",
    "    dataclasses.asdict(result)\n",
    "    for result in WINDOW_SIZE_RESULTS\n",
    "]\n",
    "\n",
    "with open('../Nicholson-Cohen-SfN-2023-poster/results/window-size-results.json', 'w') as fp:\n",
    "    json.dump(window_size_results_dicts, fp, indent=4)"
   ]
  },
  {
   "cell_type": "code",
   "execution_count": null,
   "id": "d64f05c0-4851-4de6-8d78-d388f57dd0f3",
   "metadata": {},
   "outputs": [],
   "source": [
    "DASLIKE_MODEL_METADATA_MAP = {\n",
    "    'DASLike': {\n",
    "        'all-birds': [\n",
    "            ModelMetadata(\n",
    "                results_dir='results_231027_000853',\n",
    "                window_size=2000,\n",
    "                hyperparameters='64 filters, kernel size 32, 4 stacks',\n",
    "            ),\n",
    "            ModelMetadata(\n",
    "                results_dir='results_231026_212053',\n",
    "                window_size=2000,\n",
    "                hyperparameters='64 filters, kernel size 2, 4 stacks',\n",
    "            ),\n",
    "            ModelMetadata(\n",
    "                results_dir='results_231026_235908',\n",
    "                window_size=2000,\n",
    "                hyperparameters='256 filters, kernel size 2, 4 stacks',\n",
    "            ),\n",
    "        ]\n",
    "    },\n",
    "}"
   ]
  },
  {
   "cell_type": "code",
   "execution_count": null,
   "id": "6cff6222-6fae-4ef1-89e4-bd890dbe51f9",
   "metadata": {},
   "outputs": [],
   "source": [
    "data = df_from_model_metadata_map(DASLIKE_MODEL_METADATA_MAP)\n",
    "results_1800s = data[(data['Training set size (s)'] == 1800) & (data['dataset'] == 'all-birds')]\n",
    "gb = results_1800s.groupby(by=['Model', 'Hyperparameters']).agg(\n",
    "    {metric: 'mean' for metric in metrics}\n",
    ")\n",
    "gb = gb.reset_index()\n",
    "gb = gb.sort_values(['Model', 'Hyperparameters'])\n",
    "display(gb.style.format({metric:'{:0.3f}' for metric in metrics}))"
   ]
  },
  {
   "cell_type": "markdown",
   "id": "5f13ab9d-e2f6-4410-95ff-8724b67039d6",
   "metadata": {},
   "source": [
    "These results suggest longer kernel sizes impair performance of TCN-like models, whereas more filters improve performance. Bhai et al 2018 use a kernel size of 2, and the SELD-TCN paper for sound event detection (2018) uses a kernel size of 3, but with 256 channels."
   ]
  }
 ],
 "metadata": {
  "kernelspec": {
   "display_name": "Python 3 (ipykernel)",
   "language": "python",
   "name": "python3"
  },
  "language_info": {
   "codemirror_mode": {
    "name": "ipython",
    "version": 3
   },
   "file_extension": ".py",
   "mimetype": "text/x-python",
   "name": "python",
   "nbconvert_exporter": "python",
   "pygments_lexer": "ipython3",
   "version": "3.10.9"
  }
 },
 "nbformat": 4,
 "nbformat_minor": 5
}
