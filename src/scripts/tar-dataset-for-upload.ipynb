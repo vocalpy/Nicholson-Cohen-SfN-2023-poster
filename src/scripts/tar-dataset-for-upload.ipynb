{
 "cells": [
  {
   "cell_type": "code",
   "execution_count": null,
   "id": "45ac48a1-715c-4479-9319-c8f164703062",
   "metadata": {},
   "outputs": [],
   "source": [
    "cd /home/ildefonso/Documents/repos/vocalpy/Nicholson-Cohen-SfN-2023-poster/"
   ]
  },
  {
   "cell_type": "code",
   "execution_count": null,
   "id": "6684c3a0-5a55-4c3d-8813-9b3f504b3355",
   "metadata": {},
   "outputs": [],
   "source": [
    "from dataclasses import dataclass\n",
    "import pathlib\n",
    "import tarfile"
   ]
  },
  {
   "cell_type": "code",
   "execution_count": null,
   "id": "bb050001-223a-4a48-af5c-b6d0de0cc454",
   "metadata": {},
   "outputs": [],
   "source": [
    "datasets_root = pathlib.Path('data/prep/multiclass')"
   ]
  },
  {
   "cell_type": "code",
   "execution_count": null,
   "id": "7d4f527b-fbd1-4d95-906f-98593bfa2520",
   "metadata": {},
   "outputs": [],
   "source": [
    "@dataclass\n",
    "class Dataset:\n",
    "    \"\"\"Class that represents a dataset used to train models\"\"\"\n",
    "    dataset_name: str\n",
    "    dataset_dir: str"
   ]
  },
  {
   "cell_type": "code",
   "execution_count": null,
   "id": "ea4a25b2-0f9d-40d2-852d-262c57534b01",
   "metadata": {},
   "outputs": [],
   "source": [
    "DATASETS = [\n",
    "    Dataset(\n",
    "        dataset_name=\"BFSongRepo/all-birds\",\n",
    "        dataset_dir=\"all-birds-vak-frame-classification-dataset-generated-231025_173401\"\n",
    "    )\n",
    "]"
   ]
  },
  {
   "cell_type": "code",
   "execution_count": null,
   "id": "a30431df-3c24-4988-accb-e1423ac6a5fe",
   "metadata": {},
   "outputs": [],
   "source": [
    "def make_tarfile(name: str, arcname: str, to_add: pathlib.Path):\n",
    "    with tarfile.open(name, \"w:gz\") as tf:\n",
    "        tf.add(to_add, arcname=arcname, )"
   ]
  },
  {
   "cell_type": "code",
   "execution_count": null,
   "id": "8f5c464c-fd65-42bb-9f5d-e082181118d2",
   "metadata": {},
   "outputs": [],
   "source": [
    "for dataset in DATASETS:\n",
    "    dataset_dir = datasets_root / dataset.dataset_name / dataset.dataset_dir\n",
    "    name = datasets_root / f\"{dataset_dir.name}.tar.gz\"\n",
    "    arcname = f\"{dataset.dataset_name}/{dataset.dataset_dir}\"\n",
    "    make_tarfile(name, arcname, dataset_dir)"
   ]
  },
  {
   "cell_type": "code",
   "execution_count": null,
   "id": "fc065375-1b81-49c3-82bf-1abc4faea3a4",
   "metadata": {},
   "outputs": [],
   "source": [
    "import json\n",
    "import dataclasses\n",
    "\n",
    "loss_function_results_dicts = [\n",
    "    dataclasses.asdict(result)\n",
    "    for result in LOSS_FUNCTION_RESULTS\n",
    "]\n",
    "\n",
    "with open('../Nicholson-Cohen-SfN-2023-poster/results/loss-function-results.json', 'w') as fp:\n",
    "    json.dump(loss_function_results_dicts, fp, indent=4)"
   ]
  }
 ],
 "metadata": {
  "kernelspec": {
   "display_name": "Python 3 (ipykernel)",
   "language": "python",
   "name": "python3"
  },
  "language_info": {
   "codemirror_mode": {
    "name": "ipython",
    "version": 3
   },
   "file_extension": ".py",
   "mimetype": "text/x-python",
   "name": "python",
   "nbconvert_exporter": "python",
   "pygments_lexer": "ipython3",
   "version": "3.10.9"
  }
 },
 "nbformat": 4,
 "nbformat_minor": 5
}
